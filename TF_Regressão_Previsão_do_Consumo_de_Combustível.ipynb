{
  "nbformat": 4,
  "nbformat_minor": 0,
  "metadata": {
    "colab": {
      "provenance": [],
      "include_colab_link": true
    },
    "kernelspec": {
      "name": "python3",
      "display_name": "Python 3"
    }
  },
  "cells": [
    {
      "cell_type": "markdown",
      "metadata": {
        "id": "view-in-github",
        "colab_type": "text"
      },
      "source": [
        "<a href=\"https://colab.research.google.com/github/yuriborg/advanced_time_series/blob/main/TF_Regress%C3%A3o_Previs%C3%A3o_do_Consumo_de_Combust%C3%ADvel.ipynb\" target=\"_parent\"><img src=\"https://colab.research.google.com/assets/colab-badge.svg\" alt=\"Open In Colab\"/></a>"
      ]
    },
    {
      "cell_type": "markdown",
      "metadata": {
        "id": "rhB6PyWUB_Bj"
      },
      "source": [
        "Instalação de Bibliotecas"
      ]
    },
    {
      "cell_type": "code",
      "metadata": {
        "id": "FxYv1BsWBuCQ",
        "colab": {
          "base_uri": "https://localhost:8080/",
          "height": 90
        },
        "outputId": "28a7b7bf-70c1-49d0-d894-0313f9ba0bcb"
      },
      "source": [
        "!pip install -q seaborn\n",
        "import pathlib\n",
        "\n",
        "import matplotlib.pyplot as plt\n",
        "import pandas as pd\n",
        "import seaborn as sns\n",
        "\n",
        "import tensorflow as tf\n",
        "\n",
        "from tensorflow import keras\n",
        "from tensorflow.keras import layers\n",
        "\n",
        "print(tf.__version__)"
      ],
      "execution_count": null,
      "outputs": [
        {
          "output_type": "stream",
          "text": [
            "/usr/local/lib/python3.6/dist-packages/statsmodels/tools/_testing.py:19: FutureWarning: pandas.util.testing is deprecated. Use the functions in the public API at pandas.testing instead.\n",
            "  import pandas.util.testing as tm\n"
          ],
          "name": "stderr"
        },
        {
          "output_type": "stream",
          "text": [
            "2.3.0\n"
          ],
          "name": "stdout"
        }
      ]
    },
    {
      "cell_type": "markdown",
      "metadata": {
        "id": "GAzJcAt_CDup"
      },
      "source": [
        "## Base de Dados: Auto MPG\n",
        "\n",
        "UCI Machine Learning Repository.\n",
        "\n",
        "https://archive.ics.uci.edu/ml/index.php\n",
        "\n",
        "<br>\n",
        "\n",
        "\n",
        "Attribute Information:\n",
        "\n",
        "1. mpg: continuous (miles per galon) (milhas por galão)\n",
        "2. cylinders: multi-valued discrete\n",
        "3. displacement: continuous\n",
        "4. horsepower: continuous\n",
        "5. weight: continuous\n",
        "6. acceleration: continuous\n",
        "7. model year: multi-valued discrete\n",
        "8. origin: multi-valued discrete\n",
        "9. car name: string (unique for each instance)\n",
        "\n",
        "\n",
        "<br>\n",
        "\n",
        "Ref:\n",
        "Dua, D. and Graff, C. (2019). UCI Machine Learning Repository [http://archive.ics.uci.edu/ml]. Irvine, CA: University of California, School of Information and Computer Science.\n",
        "\n",
        "\n",
        "## ETL: Extract, Transform, Load"
      ]
    },
    {
      "cell_type": "markdown",
      "metadata": {
        "id": "FtwsXueTDclD"
      },
      "source": [
        "\n",
        "## Extração dos dados"
      ]
    },
    {
      "cell_type": "code",
      "metadata": {
        "id": "-3IOnaBAB-WA",
        "colab": {
          "base_uri": "https://localhost:8080/"
        },
        "outputId": "0afb11ac-b288-4bb8-b3ef-cfc5c5b9a30a"
      },
      "source": [
        "dataset_diretorio= keras.utils.get_file(\n",
        "    \"auto-mpg.data\", \"http://archive.ics.uci.edu/ml/machine-learning-databases/auto-mpg/auto-mpg.data\"\n",
        "    )\n",
        "dataset_diretorio"
      ],
      "execution_count": null,
      "outputs": [
        {
          "output_type": "execute_result",
          "data": {
            "application/vnd.google.colaboratory.intrinsic+json": {
              "type": "string"
            },
            "text/plain": [
              "'/root/.keras/datasets/auto-mpg.data'"
            ]
          },
          "metadata": {
            "tags": []
          },
          "execution_count": 2
        }
      ]
    },
    {
      "cell_type": "code",
      "metadata": {
        "id": "FtNT6sEsCdIU",
        "colab": {
          "base_uri": "https://localhost:8080/"
        },
        "outputId": "46f47cbb-dc94-4335-b2b9-e4320a8a28b3"
      },
      "source": [
        "column_names = ['MPG','Cylinders','Displacement','Horsepower','Weight',\n",
        "                'Acceleration', 'Model Year', 'Origin']\n",
        "\n",
        "\n",
        "dataset_puro = pd.read_csv(dataset_diretorio, names=column_names,\n",
        "                      na_values = \"?\", comment='\\t',\n",
        "                      sep=\" \", skipinitialspace=True)\n",
        "\n",
        "# Criamos uma cópia, em que faremos processamento e aplicaremos o modelo\n",
        "dataset = dataset_puro.copy()\n",
        "dataset.head()"
      ],
      "execution_count": null,
      "outputs": [
        {
          "output_type": "execute_result",
          "data": {
            "text/html": [
              "<div>\n",
              "<style scoped>\n",
              "    .dataframe tbody tr th:only-of-type {\n",
              "        vertical-align: middle;\n",
              "    }\n",
              "\n",
              "    .dataframe tbody tr th {\n",
              "        vertical-align: top;\n",
              "    }\n",
              "\n",
              "    .dataframe thead th {\n",
              "        text-align: right;\n",
              "    }\n",
              "</style>\n",
              "<table border=\"1\" class=\"dataframe\">\n",
              "  <thead>\n",
              "    <tr style=\"text-align: right;\">\n",
              "      <th></th>\n",
              "      <th>MPG</th>\n",
              "      <th>Cylinders</th>\n",
              "      <th>Displacement</th>\n",
              "      <th>Horsepower</th>\n",
              "      <th>Weight</th>\n",
              "      <th>Acceleration</th>\n",
              "      <th>Model Year</th>\n",
              "      <th>Origin</th>\n",
              "    </tr>\n",
              "  </thead>\n",
              "  <tbody>\n",
              "    <tr>\n",
              "      <th>0</th>\n",
              "      <td>18.0</td>\n",
              "      <td>8</td>\n",
              "      <td>307.0</td>\n",
              "      <td>130.0</td>\n",
              "      <td>3504.0</td>\n",
              "      <td>12.0</td>\n",
              "      <td>70</td>\n",
              "      <td>1</td>\n",
              "    </tr>\n",
              "    <tr>\n",
              "      <th>1</th>\n",
              "      <td>15.0</td>\n",
              "      <td>8</td>\n",
              "      <td>350.0</td>\n",
              "      <td>165.0</td>\n",
              "      <td>3693.0</td>\n",
              "      <td>11.5</td>\n",
              "      <td>70</td>\n",
              "      <td>1</td>\n",
              "    </tr>\n",
              "    <tr>\n",
              "      <th>2</th>\n",
              "      <td>18.0</td>\n",
              "      <td>8</td>\n",
              "      <td>318.0</td>\n",
              "      <td>150.0</td>\n",
              "      <td>3436.0</td>\n",
              "      <td>11.0</td>\n",
              "      <td>70</td>\n",
              "      <td>1</td>\n",
              "    </tr>\n",
              "    <tr>\n",
              "      <th>3</th>\n",
              "      <td>16.0</td>\n",
              "      <td>8</td>\n",
              "      <td>304.0</td>\n",
              "      <td>150.0</td>\n",
              "      <td>3433.0</td>\n",
              "      <td>12.0</td>\n",
              "      <td>70</td>\n",
              "      <td>1</td>\n",
              "    </tr>\n",
              "    <tr>\n",
              "      <th>4</th>\n",
              "      <td>17.0</td>\n",
              "      <td>8</td>\n",
              "      <td>302.0</td>\n",
              "      <td>140.0</td>\n",
              "      <td>3449.0</td>\n",
              "      <td>10.5</td>\n",
              "      <td>70</td>\n",
              "      <td>1</td>\n",
              "    </tr>\n",
              "  </tbody>\n",
              "</table>\n",
              "</div>"
            ],
            "text/plain": [
              "    MPG  Cylinders  Displacement  ...  Acceleration  Model Year  Origin\n",
              "0  18.0          8         307.0  ...          12.0          70       1\n",
              "1  15.0          8         350.0  ...          11.5          70       1\n",
              "2  18.0          8         318.0  ...          11.0          70       1\n",
              "3  16.0          8         304.0  ...          12.0          70       1\n",
              "4  17.0          8         302.0  ...          10.5          70       1\n",
              "\n",
              "[5 rows x 8 columns]"
            ]
          },
          "metadata": {
            "tags": []
          },
          "execution_count": 3
        }
      ]
    },
    {
      "cell_type": "code",
      "metadata": {
        "id": "Anqbp7faCvRJ",
        "colab": {
          "base_uri": "https://localhost:8080/"
        },
        "outputId": "3ccbd25a-918c-406e-faf3-d03daa6de81b"
      },
      "source": [
        "dataset.describe()"
      ],
      "execution_count": null,
      "outputs": [
        {
          "output_type": "execute_result",
          "data": {
            "text/html": [
              "<div>\n",
              "<style scoped>\n",
              "    .dataframe tbody tr th:only-of-type {\n",
              "        vertical-align: middle;\n",
              "    }\n",
              "\n",
              "    .dataframe tbody tr th {\n",
              "        vertical-align: top;\n",
              "    }\n",
              "\n",
              "    .dataframe thead th {\n",
              "        text-align: right;\n",
              "    }\n",
              "</style>\n",
              "<table border=\"1\" class=\"dataframe\">\n",
              "  <thead>\n",
              "    <tr style=\"text-align: right;\">\n",
              "      <th></th>\n",
              "      <th>MPG</th>\n",
              "      <th>Cylinders</th>\n",
              "      <th>Displacement</th>\n",
              "      <th>Horsepower</th>\n",
              "      <th>Weight</th>\n",
              "      <th>Acceleration</th>\n",
              "      <th>Model Year</th>\n",
              "      <th>Origin</th>\n",
              "    </tr>\n",
              "  </thead>\n",
              "  <tbody>\n",
              "    <tr>\n",
              "      <th>count</th>\n",
              "      <td>398.000000</td>\n",
              "      <td>398.000000</td>\n",
              "      <td>398.000000</td>\n",
              "      <td>392.000000</td>\n",
              "      <td>398.000000</td>\n",
              "      <td>398.000000</td>\n",
              "      <td>398.000000</td>\n",
              "      <td>398.000000</td>\n",
              "    </tr>\n",
              "    <tr>\n",
              "      <th>mean</th>\n",
              "      <td>23.514573</td>\n",
              "      <td>5.454774</td>\n",
              "      <td>193.425879</td>\n",
              "      <td>104.469388</td>\n",
              "      <td>2970.424623</td>\n",
              "      <td>15.568090</td>\n",
              "      <td>76.010050</td>\n",
              "      <td>1.572864</td>\n",
              "    </tr>\n",
              "    <tr>\n",
              "      <th>std</th>\n",
              "      <td>7.815984</td>\n",
              "      <td>1.701004</td>\n",
              "      <td>104.269838</td>\n",
              "      <td>38.491160</td>\n",
              "      <td>846.841774</td>\n",
              "      <td>2.757689</td>\n",
              "      <td>3.697627</td>\n",
              "      <td>0.802055</td>\n",
              "    </tr>\n",
              "    <tr>\n",
              "      <th>min</th>\n",
              "      <td>9.000000</td>\n",
              "      <td>3.000000</td>\n",
              "      <td>68.000000</td>\n",
              "      <td>46.000000</td>\n",
              "      <td>1613.000000</td>\n",
              "      <td>8.000000</td>\n",
              "      <td>70.000000</td>\n",
              "      <td>1.000000</td>\n",
              "    </tr>\n",
              "    <tr>\n",
              "      <th>25%</th>\n",
              "      <td>17.500000</td>\n",
              "      <td>4.000000</td>\n",
              "      <td>104.250000</td>\n",
              "      <td>75.000000</td>\n",
              "      <td>2223.750000</td>\n",
              "      <td>13.825000</td>\n",
              "      <td>73.000000</td>\n",
              "      <td>1.000000</td>\n",
              "    </tr>\n",
              "    <tr>\n",
              "      <th>50%</th>\n",
              "      <td>23.000000</td>\n",
              "      <td>4.000000</td>\n",
              "      <td>148.500000</td>\n",
              "      <td>93.500000</td>\n",
              "      <td>2803.500000</td>\n",
              "      <td>15.500000</td>\n",
              "      <td>76.000000</td>\n",
              "      <td>1.000000</td>\n",
              "    </tr>\n",
              "    <tr>\n",
              "      <th>75%</th>\n",
              "      <td>29.000000</td>\n",
              "      <td>8.000000</td>\n",
              "      <td>262.000000</td>\n",
              "      <td>126.000000</td>\n",
              "      <td>3608.000000</td>\n",
              "      <td>17.175000</td>\n",
              "      <td>79.000000</td>\n",
              "      <td>2.000000</td>\n",
              "    </tr>\n",
              "    <tr>\n",
              "      <th>max</th>\n",
              "      <td>46.600000</td>\n",
              "      <td>8.000000</td>\n",
              "      <td>455.000000</td>\n",
              "      <td>230.000000</td>\n",
              "      <td>5140.000000</td>\n",
              "      <td>24.800000</td>\n",
              "      <td>82.000000</td>\n",
              "      <td>3.000000</td>\n",
              "    </tr>\n",
              "  </tbody>\n",
              "</table>\n",
              "</div>"
            ],
            "text/plain": [
              "              MPG   Cylinders  ...  Model Year      Origin\n",
              "count  398.000000  398.000000  ...  398.000000  398.000000\n",
              "mean    23.514573    5.454774  ...   76.010050    1.572864\n",
              "std      7.815984    1.701004  ...    3.697627    0.802055\n",
              "min      9.000000    3.000000  ...   70.000000    1.000000\n",
              "25%     17.500000    4.000000  ...   73.000000    1.000000\n",
              "50%     23.000000    4.000000  ...   76.000000    1.000000\n",
              "75%     29.000000    8.000000  ...   79.000000    2.000000\n",
              "max     46.600000    8.000000  ...   82.000000    3.000000\n",
              "\n",
              "[8 rows x 8 columns]"
            ]
          },
          "metadata": {
            "tags": []
          },
          "execution_count": 4
        }
      ]
    },
    {
      "cell_type": "markdown",
      "metadata": {
        "id": "oXkmtCOUDZPo"
      },
      "source": [
        "## Limpeza dos dados"
      ]
    },
    {
      "cell_type": "code",
      "metadata": {
        "id": "FZOSymPaDini",
        "colab": {
          "base_uri": "https://localhost:8080/"
        },
        "outputId": "7dc51b43-4a2c-49fe-eb94-c6bc8fe14273"
      },
      "source": [
        "dataset.isna()"
      ],
      "execution_count": null,
      "outputs": [
        {
          "output_type": "execute_result",
          "data": {
            "text/html": [
              "<div>\n",
              "<style scoped>\n",
              "    .dataframe tbody tr th:only-of-type {\n",
              "        vertical-align: middle;\n",
              "    }\n",
              "\n",
              "    .dataframe tbody tr th {\n",
              "        vertical-align: top;\n",
              "    }\n",
              "\n",
              "    .dataframe thead th {\n",
              "        text-align: right;\n",
              "    }\n",
              "</style>\n",
              "<table border=\"1\" class=\"dataframe\">\n",
              "  <thead>\n",
              "    <tr style=\"text-align: right;\">\n",
              "      <th></th>\n",
              "      <th>MPG</th>\n",
              "      <th>Cylinders</th>\n",
              "      <th>Displacement</th>\n",
              "      <th>Horsepower</th>\n",
              "      <th>Weight</th>\n",
              "      <th>Acceleration</th>\n",
              "      <th>Model Year</th>\n",
              "      <th>Origin</th>\n",
              "    </tr>\n",
              "  </thead>\n",
              "  <tbody>\n",
              "    <tr>\n",
              "      <th>0</th>\n",
              "      <td>False</td>\n",
              "      <td>False</td>\n",
              "      <td>False</td>\n",
              "      <td>False</td>\n",
              "      <td>False</td>\n",
              "      <td>False</td>\n",
              "      <td>False</td>\n",
              "      <td>False</td>\n",
              "    </tr>\n",
              "    <tr>\n",
              "      <th>1</th>\n",
              "      <td>False</td>\n",
              "      <td>False</td>\n",
              "      <td>False</td>\n",
              "      <td>False</td>\n",
              "      <td>False</td>\n",
              "      <td>False</td>\n",
              "      <td>False</td>\n",
              "      <td>False</td>\n",
              "    </tr>\n",
              "    <tr>\n",
              "      <th>2</th>\n",
              "      <td>False</td>\n",
              "      <td>False</td>\n",
              "      <td>False</td>\n",
              "      <td>False</td>\n",
              "      <td>False</td>\n",
              "      <td>False</td>\n",
              "      <td>False</td>\n",
              "      <td>False</td>\n",
              "    </tr>\n",
              "    <tr>\n",
              "      <th>3</th>\n",
              "      <td>False</td>\n",
              "      <td>False</td>\n",
              "      <td>False</td>\n",
              "      <td>False</td>\n",
              "      <td>False</td>\n",
              "      <td>False</td>\n",
              "      <td>False</td>\n",
              "      <td>False</td>\n",
              "    </tr>\n",
              "    <tr>\n",
              "      <th>4</th>\n",
              "      <td>False</td>\n",
              "      <td>False</td>\n",
              "      <td>False</td>\n",
              "      <td>False</td>\n",
              "      <td>False</td>\n",
              "      <td>False</td>\n",
              "      <td>False</td>\n",
              "      <td>False</td>\n",
              "    </tr>\n",
              "    <tr>\n",
              "      <th>...</th>\n",
              "      <td>...</td>\n",
              "      <td>...</td>\n",
              "      <td>...</td>\n",
              "      <td>...</td>\n",
              "      <td>...</td>\n",
              "      <td>...</td>\n",
              "      <td>...</td>\n",
              "      <td>...</td>\n",
              "    </tr>\n",
              "    <tr>\n",
              "      <th>393</th>\n",
              "      <td>False</td>\n",
              "      <td>False</td>\n",
              "      <td>False</td>\n",
              "      <td>False</td>\n",
              "      <td>False</td>\n",
              "      <td>False</td>\n",
              "      <td>False</td>\n",
              "      <td>False</td>\n",
              "    </tr>\n",
              "    <tr>\n",
              "      <th>394</th>\n",
              "      <td>False</td>\n",
              "      <td>False</td>\n",
              "      <td>False</td>\n",
              "      <td>False</td>\n",
              "      <td>False</td>\n",
              "      <td>False</td>\n",
              "      <td>False</td>\n",
              "      <td>False</td>\n",
              "    </tr>\n",
              "    <tr>\n",
              "      <th>395</th>\n",
              "      <td>False</td>\n",
              "      <td>False</td>\n",
              "      <td>False</td>\n",
              "      <td>False</td>\n",
              "      <td>False</td>\n",
              "      <td>False</td>\n",
              "      <td>False</td>\n",
              "      <td>False</td>\n",
              "    </tr>\n",
              "    <tr>\n",
              "      <th>396</th>\n",
              "      <td>False</td>\n",
              "      <td>False</td>\n",
              "      <td>False</td>\n",
              "      <td>False</td>\n",
              "      <td>False</td>\n",
              "      <td>False</td>\n",
              "      <td>False</td>\n",
              "      <td>False</td>\n",
              "    </tr>\n",
              "    <tr>\n",
              "      <th>397</th>\n",
              "      <td>False</td>\n",
              "      <td>False</td>\n",
              "      <td>False</td>\n",
              "      <td>False</td>\n",
              "      <td>False</td>\n",
              "      <td>False</td>\n",
              "      <td>False</td>\n",
              "      <td>False</td>\n",
              "    </tr>\n",
              "  </tbody>\n",
              "</table>\n",
              "<p>398 rows × 8 columns</p>\n",
              "</div>"
            ],
            "text/plain": [
              "       MPG  Cylinders  Displacement  ...  Acceleration  Model Year  Origin\n",
              "0    False      False         False  ...         False       False   False\n",
              "1    False      False         False  ...         False       False   False\n",
              "2    False      False         False  ...         False       False   False\n",
              "3    False      False         False  ...         False       False   False\n",
              "4    False      False         False  ...         False       False   False\n",
              "..     ...        ...           ...  ...           ...         ...     ...\n",
              "393  False      False         False  ...         False       False   False\n",
              "394  False      False         False  ...         False       False   False\n",
              "395  False      False         False  ...         False       False   False\n",
              "396  False      False         False  ...         False       False   False\n",
              "397  False      False         False  ...         False       False   False\n",
              "\n",
              "[398 rows x 8 columns]"
            ]
          },
          "metadata": {
            "tags": []
          },
          "execution_count": 5
        }
      ]
    },
    {
      "cell_type": "code",
      "metadata": {
        "id": "N60Ovsb-DlYm",
        "colab": {
          "base_uri": "https://localhost:8080/"
        },
        "outputId": "3cef5e5c-808c-4906-e71c-773a639b3fcc"
      },
      "source": [
        "dataset.isna().sum()"
      ],
      "execution_count": null,
      "outputs": [
        {
          "output_type": "execute_result",
          "data": {
            "text/plain": [
              "MPG             0\n",
              "Cylinders       0\n",
              "Displacement    0\n",
              "Horsepower      6\n",
              "Weight          0\n",
              "Acceleration    0\n",
              "Model Year      0\n",
              "Origin          0\n",
              "dtype: int64"
            ]
          },
          "metadata": {
            "tags": []
          },
          "execution_count": 6
        }
      ]
    },
    {
      "cell_type": "markdown",
      "metadata": {
        "id": "G3HuOQhjDpxl"
      },
      "source": [
        "## Atribui dataset para o dataset com a remoção de todos NaNs (Not a Number)"
      ]
    },
    {
      "cell_type": "code",
      "metadata": {
        "id": "MZURd_0bDxvN"
      },
      "source": [
        "dataset = dataset.dropna()"
      ],
      "execution_count": null,
      "outputs": []
    },
    {
      "cell_type": "code",
      "metadata": {
        "id": "EJfKGBOKDzq1",
        "colab": {
          "base_uri": "https://localhost:8080/"
        },
        "outputId": "aa60bd2d-a523-430c-ac06-ab971e304e1e"
      },
      "source": [
        "dataset.isna().sum().sum()"
      ],
      "execution_count": null,
      "outputs": [
        {
          "output_type": "execute_result",
          "data": {
            "text/plain": [
              "0"
            ]
          },
          "metadata": {
            "tags": []
          },
          "execution_count": 8
        }
      ]
    },
    {
      "cell_type": "markdown",
      "metadata": {
        "id": "tOtS62n8D3Tt"
      },
      "source": [
        "## Separação de Variáveis categóricas de variáveis numéricas (contínuas)"
      ]
    },
    {
      "cell_type": "code",
      "metadata": {
        "id": "a3PhItiHD_-w",
        "colab": {
          "base_uri": "https://localhost:8080/"
        },
        "outputId": "ac69b050-b82f-45a3-d87d-edceb6b61053"
      },
      "source": [
        "for col in dataset.columns:\n",
        "  print(f\" col {col} , Qtd de valores únicos: {len(dataset[col].unique())} , {list(dataset[col].unique())} \\n \")"
      ],
      "execution_count": null,
      "outputs": [
        {
          "output_type": "stream",
          "text": [
            " col MPG , Qtd de valores únicos: 127 , [18.0, 15.0, 16.0, 17.0, 14.0, 24.0, 22.0, 21.0, 27.0, 26.0, 25.0, 10.0, 11.0, 9.0, 28.0, 19.0, 12.0, 13.0, 23.0, 30.0, 31.0, 35.0, 20.0, 29.0, 32.0, 33.0, 17.5, 15.5, 14.5, 22.5, 24.5, 18.5, 29.5, 26.5, 16.5, 31.5, 36.0, 25.5, 33.5, 20.5, 30.5, 21.5, 43.1, 36.1, 32.8, 39.4, 19.9, 19.4, 20.2, 19.2, 25.1, 20.6, 20.8, 18.6, 18.1, 17.7, 27.5, 27.2, 30.9, 21.1, 23.2, 23.8, 23.9, 20.3, 21.6, 16.2, 19.8, 22.3, 17.6, 18.2, 16.9, 31.9, 34.1, 35.7, 27.4, 25.4, 34.2, 34.5, 31.8, 37.3, 28.4, 28.8, 26.8, 41.5, 38.1, 32.1, 37.2, 26.4, 24.3, 19.1, 34.3, 29.8, 31.3, 37.0, 32.2, 46.6, 27.9, 40.8, 44.3, 43.4, 36.4, 44.6, 33.8, 32.7, 23.7, 32.4, 26.6, 25.8, 23.5, 39.1, 39.0, 35.1, 32.3, 37.7, 34.7, 34.4, 29.9, 33.7, 32.9, 31.6, 28.1, 30.7, 24.2, 22.4, 34.0, 38.0, 44.0] \n",
            " \n",
            " col Cylinders , Qtd de valores únicos: 5 , [8, 4, 6, 3, 5] \n",
            " \n",
            " col Displacement , Qtd de valores únicos: 81 , [307.0, 350.0, 318.0, 304.0, 302.0, 429.0, 454.0, 440.0, 455.0, 390.0, 383.0, 340.0, 400.0, 113.0, 198.0, 199.0, 200.0, 97.0, 110.0, 107.0, 104.0, 121.0, 360.0, 140.0, 232.0, 225.0, 250.0, 351.0, 258.0, 122.0, 116.0, 79.0, 88.0, 71.0, 72.0, 91.0, 97.5, 70.0, 120.0, 96.0, 98.0, 108.0, 155.0, 68.0, 114.0, 156.0, 76.0, 83.0, 90.0, 231.0, 262.0, 134.0, 119.0, 171.0, 115.0, 101.0, 305.0, 85.0, 130.0, 168.0, 111.0, 260.0, 151.0, 146.0, 80.0, 78.0, 105.0, 131.0, 163.0, 89.0, 267.0, 86.0, 183.0, 141.0, 173.0, 135.0, 81.0, 145.0, 112.0, 181.0, 144.0] \n",
            " \n",
            " col Horsepower , Qtd de valores únicos: 93 , [130.0, 165.0, 150.0, 140.0, 198.0, 220.0, 215.0, 225.0, 190.0, 170.0, 160.0, 95.0, 97.0, 85.0, 88.0, 46.0, 87.0, 90.0, 113.0, 200.0, 210.0, 193.0, 100.0, 105.0, 175.0, 153.0, 180.0, 110.0, 72.0, 86.0, 70.0, 76.0, 65.0, 69.0, 60.0, 80.0, 54.0, 208.0, 155.0, 112.0, 92.0, 145.0, 137.0, 158.0, 167.0, 94.0, 107.0, 230.0, 49.0, 75.0, 91.0, 122.0, 67.0, 83.0, 78.0, 52.0, 61.0, 93.0, 148.0, 129.0, 96.0, 71.0, 98.0, 115.0, 53.0, 81.0, 79.0, 120.0, 152.0, 102.0, 108.0, 68.0, 58.0, 149.0, 89.0, 63.0, 48.0, 66.0, 139.0, 103.0, 125.0, 133.0, 138.0, 135.0, 142.0, 77.0, 62.0, 132.0, 84.0, 64.0, 74.0, 116.0, 82.0] \n",
            " \n",
            " col Weight , Qtd de valores únicos: 346 , [3504.0, 3693.0, 3436.0, 3433.0, 3449.0, 4341.0, 4354.0, 4312.0, 4425.0, 3850.0, 3563.0, 3609.0, 3761.0, 3086.0, 2372.0, 2833.0, 2774.0, 2587.0, 2130.0, 1835.0, 2672.0, 2430.0, 2375.0, 2234.0, 2648.0, 4615.0, 4376.0, 4382.0, 4732.0, 2264.0, 2228.0, 2634.0, 3439.0, 3329.0, 3302.0, 3288.0, 4209.0, 4464.0, 4154.0, 4096.0, 4955.0, 4746.0, 5140.0, 2962.0, 2408.0, 3282.0, 3139.0, 2220.0, 2123.0, 2074.0, 2065.0, 1773.0, 1613.0, 1834.0, 1955.0, 2278.0, 2126.0, 2254.0, 2226.0, 4274.0, 4385.0, 4135.0, 4129.0, 3672.0, 4633.0, 4502.0, 4456.0, 4422.0, 2330.0, 3892.0, 4098.0, 4294.0, 4077.0, 2933.0, 2511.0, 2979.0, 2189.0, 2395.0, 2288.0, 2506.0, 2164.0, 2100.0, 4100.0, 3988.0, 4042.0, 3777.0, 4952.0, 4363.0, 4237.0, 4735.0, 4951.0, 3821.0, 3121.0, 3278.0, 2945.0, 3021.0, 2904.0, 1950.0, 4997.0, 4906.0, 4654.0, 4499.0, 2789.0, 2279.0, 2401.0, 2379.0, 2124.0, 2310.0, 2472.0, 2265.0, 4082.0, 4278.0, 1867.0, 2158.0, 2582.0, 2868.0, 3399.0, 2660.0, 2807.0, 3664.0, 3102.0, 2901.0, 3336.0, 2451.0, 1836.0, 2542.0, 3781.0, 3632.0, 3613.0, 4141.0, 4699.0, 4457.0, 4638.0, 4257.0, 2219.0, 1963.0, 2300.0, 1649.0, 2003.0, 2125.0, 2108.0, 2246.0, 2489.0, 2391.0, 2000.0, 3264.0, 3459.0, 3432.0, 3158.0, 4668.0, 4440.0, 4498.0, 4657.0, 3907.0, 3897.0, 3730.0, 3785.0, 3039.0, 3221.0, 3169.0, 2171.0, 2639.0, 2914.0, 2592.0, 2702.0, 2223.0, 2545.0, 2984.0, 1937.0, 3211.0, 2694.0, 2957.0, 2671.0, 1795.0, 2464.0, 2572.0, 2255.0, 2202.0, 4215.0, 4190.0, 3962.0, 3233.0, 3353.0, 3012.0, 3085.0, 2035.0, 3651.0, 3574.0, 3645.0, 3193.0, 1825.0, 1990.0, 2155.0, 2565.0, 3150.0, 3940.0, 3270.0, 2930.0, 3820.0, 4380.0, 4055.0, 3870.0, 3755.0, 2045.0, 1945.0, 3880.0, 4060.0, 4140.0, 4295.0, 3520.0, 3425.0, 3630.0, 3525.0, 4220.0, 4165.0, 4325.0, 4335.0, 1940.0, 2740.0, 2755.0, 2051.0, 2075.0, 1985.0, 2190.0, 2815.0, 2600.0, 2720.0, 1800.0, 2070.0, 3365.0, 3735.0, 3570.0, 3535.0, 3155.0, 2965.0, 3430.0, 3210.0, 3380.0, 3070.0, 3620.0, 3410.0, 3445.0, 3205.0, 4080.0, 2560.0, 2230.0, 2515.0, 2745.0, 2855.0, 2405.0, 2830.0, 3140.0, 2795.0, 2135.0, 3245.0, 2990.0, 2890.0, 3265.0, 3360.0, 3840.0, 3725.0, 3955.0, 3830.0, 4360.0, 4054.0, 3605.0, 1925.0, 1975.0, 1915.0, 2670.0, 3530.0, 3900.0, 3190.0, 3420.0, 2200.0, 2150.0, 2020.0, 2595.0, 2700.0, 2556.0, 2144.0, 1968.0, 2120.0, 2019.0, 2678.0, 2870.0, 3003.0, 3381.0, 2188.0, 2711.0, 2434.0, 2110.0, 2800.0, 2085.0, 2335.0, 2950.0, 3250.0, 1850.0, 2145.0, 1845.0, 2910.0, 2420.0, 2500.0, 2290.0, 2490.0, 2635.0, 2620.0, 2725.0, 2385.0, 1755.0, 1875.0, 1760.0, 2050.0, 2215.0, 2380.0, 2210.0, 2350.0, 2615.0, 3230.0, 3160.0, 2900.0, 3415.0, 3060.0, 3465.0, 2605.0, 2640.0, 2575.0, 2525.0, 2735.0, 2865.0, 1980.0, 2025.0, 1970.0, 2160.0, 2205.0, 2245.0, 1965.0, 1995.0, 3015.0, 2585.0, 2835.0, 2665.0, 2370.0, 2790.0, 2295.0, 2625.0] \n",
            " \n",
            " col Acceleration , Qtd de valores únicos: 95 , [12.0, 11.5, 11.0, 10.5, 10.0, 9.0, 8.5, 8.0, 9.5, 15.0, 15.5, 16.0, 14.5, 20.5, 17.5, 12.5, 14.0, 13.5, 18.5, 13.0, 19.0, 19.5, 18.0, 17.0, 23.5, 16.5, 21.0, 16.9, 14.9, 17.7, 15.3, 13.9, 12.8, 15.4, 17.6, 22.2, 22.1, 14.2, 17.4, 16.2, 17.8, 12.2, 16.4, 13.6, 15.7, 13.2, 21.9, 16.7, 12.1, 14.8, 18.6, 16.8, 13.7, 11.1, 11.4, 18.2, 15.8, 15.9, 14.1, 21.5, 14.4, 19.4, 19.2, 17.2, 18.7, 15.1, 13.4, 11.2, 14.7, 16.6, 17.3, 15.2, 14.3, 20.1, 24.8, 11.3, 12.9, 18.8, 18.1, 17.9, 21.7, 23.7, 19.9, 21.8, 13.8, 12.6, 16.1, 20.7, 18.3, 20.4, 19.6, 17.1, 15.6, 24.6, 11.6] \n",
            " \n",
            " col Model Year , Qtd de valores únicos: 13 , [70, 71, 72, 73, 74, 75, 76, 77, 78, 79, 80, 81, 82] \n",
            " \n",
            " col Origin , Qtd de valores únicos: 3 , [1, 3, 2] \n",
            " \n"
          ],
          "name": "stdout"
        }
      ]
    },
    {
      "cell_type": "markdown",
      "metadata": {
        "id": "AhwJXTCuEYw1"
      },
      "source": [
        "## Origin é categórica, então precisa ser convertida, com **One-Hot encoding**"
      ]
    },
    {
      "cell_type": "code",
      "metadata": {
        "id": "VIS2YX_TEQmN",
        "colab": {
          "base_uri": "https://localhost:8080/"
        },
        "outputId": "89df6c14-7028-498d-d0bb-87a8624c617c"
      },
      "source": [
        "origin = dataset.pop('Origin')\n",
        "origin"
      ],
      "execution_count": null,
      "outputs": [
        {
          "output_type": "execute_result",
          "data": {
            "text/plain": [
              "0      1\n",
              "1      1\n",
              "2      1\n",
              "3      1\n",
              "4      1\n",
              "      ..\n",
              "393    1\n",
              "394    2\n",
              "395    1\n",
              "396    1\n",
              "397    1\n",
              "Name: Origin, Length: 392, dtype: int64"
            ]
          },
          "metadata": {
            "tags": []
          },
          "execution_count": 10
        }
      ]
    },
    {
      "cell_type": "code",
      "metadata": {
        "id": "onBQBERdEyuF",
        "colab": {
          "base_uri": "https://localhost:8080/"
        },
        "outputId": "18e180eb-ca14-4cff-daed-c59de31e2ff7"
      },
      "source": [
        "(origin == 2)"
      ],
      "execution_count": null,
      "outputs": [
        {
          "output_type": "execute_result",
          "data": {
            "text/plain": [
              "0      False\n",
              "1      False\n",
              "2      False\n",
              "3      False\n",
              "4      False\n",
              "       ...  \n",
              "393    False\n",
              "394     True\n",
              "395    False\n",
              "396    False\n",
              "397    False\n",
              "Name: Origin, Length: 392, dtype: bool"
            ]
          },
          "metadata": {
            "tags": []
          },
          "execution_count": 11
        }
      ]
    },
    {
      "cell_type": "code",
      "metadata": {
        "id": "rYPrdFfEE0fW",
        "colab": {
          "base_uri": "https://localhost:8080/"
        },
        "outputId": "24600d5b-3267-4823-86e0-d42bded70bd4"
      },
      "source": [
        "(origin == 2)*1.0"
      ],
      "execution_count": null,
      "outputs": [
        {
          "output_type": "execute_result",
          "data": {
            "text/plain": [
              "0      0.0\n",
              "1      0.0\n",
              "2      0.0\n",
              "3      0.0\n",
              "4      0.0\n",
              "      ... \n",
              "393    0.0\n",
              "394    1.0\n",
              "395    0.0\n",
              "396    0.0\n",
              "397    0.0\n",
              "Name: Origin, Length: 392, dtype: float64"
            ]
          },
          "metadata": {
            "tags": []
          },
          "execution_count": 12
        }
      ]
    },
    {
      "cell_type": "code",
      "metadata": {
        "id": "cGPVbSyrEmuJ",
        "colab": {
          "base_uri": "https://localhost:8080/"
        },
        "outputId": "9ea8485b-efbd-4b8d-a424-c38b7cc8b0d7"
      },
      "source": [
        "dataset['USA'] = (origin == 1)*1.0\n",
        "dataset['Europe'] = (origin == 2)*1.0\n",
        "dataset['Japan'] = (origin == 3)*1.0\n",
        "dataset.tail()"
      ],
      "execution_count": null,
      "outputs": [
        {
          "output_type": "execute_result",
          "data": {
            "text/html": [
              "<div>\n",
              "<style scoped>\n",
              "    .dataframe tbody tr th:only-of-type {\n",
              "        vertical-align: middle;\n",
              "    }\n",
              "\n",
              "    .dataframe tbody tr th {\n",
              "        vertical-align: top;\n",
              "    }\n",
              "\n",
              "    .dataframe thead th {\n",
              "        text-align: right;\n",
              "    }\n",
              "</style>\n",
              "<table border=\"1\" class=\"dataframe\">\n",
              "  <thead>\n",
              "    <tr style=\"text-align: right;\">\n",
              "      <th></th>\n",
              "      <th>MPG</th>\n",
              "      <th>Cylinders</th>\n",
              "      <th>Displacement</th>\n",
              "      <th>Horsepower</th>\n",
              "      <th>Weight</th>\n",
              "      <th>Acceleration</th>\n",
              "      <th>Model Year</th>\n",
              "      <th>USA</th>\n",
              "      <th>Europe</th>\n",
              "      <th>Japan</th>\n",
              "    </tr>\n",
              "  </thead>\n",
              "  <tbody>\n",
              "    <tr>\n",
              "      <th>393</th>\n",
              "      <td>27.0</td>\n",
              "      <td>4</td>\n",
              "      <td>140.0</td>\n",
              "      <td>86.0</td>\n",
              "      <td>2790.0</td>\n",
              "      <td>15.6</td>\n",
              "      <td>82</td>\n",
              "      <td>1.0</td>\n",
              "      <td>0.0</td>\n",
              "      <td>0.0</td>\n",
              "    </tr>\n",
              "    <tr>\n",
              "      <th>394</th>\n",
              "      <td>44.0</td>\n",
              "      <td>4</td>\n",
              "      <td>97.0</td>\n",
              "      <td>52.0</td>\n",
              "      <td>2130.0</td>\n",
              "      <td>24.6</td>\n",
              "      <td>82</td>\n",
              "      <td>0.0</td>\n",
              "      <td>1.0</td>\n",
              "      <td>0.0</td>\n",
              "    </tr>\n",
              "    <tr>\n",
              "      <th>395</th>\n",
              "      <td>32.0</td>\n",
              "      <td>4</td>\n",
              "      <td>135.0</td>\n",
              "      <td>84.0</td>\n",
              "      <td>2295.0</td>\n",
              "      <td>11.6</td>\n",
              "      <td>82</td>\n",
              "      <td>1.0</td>\n",
              "      <td>0.0</td>\n",
              "      <td>0.0</td>\n",
              "    </tr>\n",
              "    <tr>\n",
              "      <th>396</th>\n",
              "      <td>28.0</td>\n",
              "      <td>4</td>\n",
              "      <td>120.0</td>\n",
              "      <td>79.0</td>\n",
              "      <td>2625.0</td>\n",
              "      <td>18.6</td>\n",
              "      <td>82</td>\n",
              "      <td>1.0</td>\n",
              "      <td>0.0</td>\n",
              "      <td>0.0</td>\n",
              "    </tr>\n",
              "    <tr>\n",
              "      <th>397</th>\n",
              "      <td>31.0</td>\n",
              "      <td>4</td>\n",
              "      <td>119.0</td>\n",
              "      <td>82.0</td>\n",
              "      <td>2720.0</td>\n",
              "      <td>19.4</td>\n",
              "      <td>82</td>\n",
              "      <td>1.0</td>\n",
              "      <td>0.0</td>\n",
              "      <td>0.0</td>\n",
              "    </tr>\n",
              "  </tbody>\n",
              "</table>\n",
              "</div>"
            ],
            "text/plain": [
              "      MPG  Cylinders  Displacement  Horsepower  ...  Model Year  USA  Europe  Japan\n",
              "393  27.0          4         140.0        86.0  ...          82  1.0     0.0    0.0\n",
              "394  44.0          4          97.0        52.0  ...          82  0.0     1.0    0.0\n",
              "395  32.0          4         135.0        84.0  ...          82  1.0     0.0    0.0\n",
              "396  28.0          4         120.0        79.0  ...          82  1.0     0.0    0.0\n",
              "397  31.0          4         119.0        82.0  ...          82  1.0     0.0    0.0\n",
              "\n",
              "[5 rows x 10 columns]"
            ]
          },
          "metadata": {
            "tags": []
          },
          "execution_count": 13
        }
      ]
    },
    {
      "cell_type": "markdown",
      "metadata": {
        "id": "KDQww6rwE-5a"
      },
      "source": [
        "## Separação em Treino e Teste:\n",
        "\n",
        "\\begin{equation}\n",
        "D = \\{ x_j \\}_{j=1}^N \\rightarrow \\begin{cases} D_{treino} =  \\{ x_j \\}_{j=1}^K, & \\mbox{(Treino)}  \\\\ D_{teste} =  \\{ x_j \\}_{j=K+1}^N, & \\mbox{(Teste)}  \\end{cases} \\\\\n",
        "D = D_{treino} \\cup D_{teste}\n",
        "\\end{equation}\n",
        "\n",
        "Porcentagem de \"split\" $ = \\frac{K*100}{N} \\%$\n",
        "\n",
        "No caso, vou escolher 80%"
      ]
    },
    {
      "cell_type": "code",
      "metadata": {
        "id": "mSesP6EUGqvr"
      },
      "source": [
        "pct_split = 0.8"
      ],
      "execution_count": null,
      "outputs": []
    },
    {
      "cell_type": "code",
      "metadata": {
        "id": "Da22-D8VGOZ0"
      },
      "source": [
        "train_dataset = dataset.sample(frac=pct_split,random_state=0)"
      ],
      "execution_count": null,
      "outputs": []
    },
    {
      "cell_type": "markdown",
      "metadata": {
        "id": "GKi6WfAPG1Wd"
      },
      "source": [
        "$D_{teste} = D - D_{treino}$"
      ]
    },
    {
      "cell_type": "code",
      "metadata": {
        "id": "uM_WJsHtG0tv"
      },
      "source": [
        "# retira dos dados totais, a parte de treino\n",
        "test_dataset = dataset.drop(train_dataset.index)"
      ],
      "execution_count": null,
      "outputs": []
    },
    {
      "cell_type": "markdown",
      "metadata": {
        "id": "6s870QWCHD-t"
      },
      "source": [
        "## Pair-plots entre os dados contínuos"
      ]
    },
    {
      "cell_type": "code",
      "metadata": {
        "id": "I7xw5MuwHLgk",
        "colab": {
          "base_uri": "https://localhost:8080/"
        },
        "outputId": "b732b8b9-5be7-4002-c26d-335cb9b48e9a"
      },
      "source": [
        "dataset.columns"
      ],
      "execution_count": null,
      "outputs": [
        {
          "output_type": "execute_result",
          "data": {
            "text/plain": [
              "Index(['MPG', 'Cylinders', 'Displacement', 'Horsepower', 'Weight',\n",
              "       'Acceleration', 'Model Year', 'USA', 'Europe', 'Japan'],\n",
              "      dtype='object')"
            ]
          },
          "metadata": {
            "tags": []
          },
          "execution_count": 17
        }
      ]
    },
    {
      "cell_type": "code",
      "metadata": {
        "id": "q4RHS9HvHKd6",
        "colab": {
          "base_uri": "https://localhost:8080/",
          "height": 764
        },
        "outputId": "0297d360-db78-4019-a100-30a560fddfae"
      },
      "source": [
        "sns.pairplot(train_dataset[[\"MPG\", \"Cylinders\", \"Displacement\", \"Weight\"]], diag_kind=\"kde\")"
      ],
      "execution_count": null,
      "outputs": [
        {
          "output_type": "execute_result",
          "data": {
            "text/plain": [
              "<seaborn.axisgrid.PairGrid at 0x7fbba81177b8>"
            ]
          },
          "metadata": {
            "tags": []
          },
          "execution_count": 18
        },
        {
          "output_type": "display_data",
          "data": {
            "image/png": "[encoded data removed]",
            "text/plain": [
              "<Figure size 720x720 with 20 Axes>"
            ]
          },
          "metadata": {
            "tags": [],
            "needs_background": "light"
          }
        }
      ]
    },
    {
      "cell_type": "markdown",
      "metadata": {
        "id": "EUIl4d9uHV2y"
      },
      "source": [
        "## Vamos ver a descrição estatística dos dados:"
      ]
    },
    {
      "cell_type": "code",
      "metadata": {
        "id": "I3meQARKHbet",
        "colab": {
          "base_uri": "https://localhost:8080/"
        },
        "outputId": "d526869d-811e-4c33-dd55-3da4396532d2"
      },
      "source": [
        "train_stats = train_dataset.describe()\n",
        "\n",
        "# Remoção da variável target\n",
        "train_stats.pop(\"MPG\")\n",
        "\n",
        "\n",
        "train_stats = train_stats.T\n",
        "train_stats"
      ],
      "execution_count": null,
      "outputs": [
        {
          "output_type": "execute_result",
          "data": {
            "text/html": [
              "<div>\n",
              "<style scoped>\n",
              "    .dataframe tbody tr th:only-of-type {\n",
              "        vertical-align: middle;\n",
              "    }\n",
              "\n",
              "    .dataframe tbody tr th {\n",
              "        vertical-align: top;\n",
              "    }\n",
              "\n",
              "    .dataframe thead th {\n",
              "        text-align: right;\n",
              "    }\n",
              "</style>\n",
              "<table border=\"1\" class=\"dataframe\">\n",
              "  <thead>\n",
              "    <tr style=\"text-align: right;\">\n",
              "      <th></th>\n",
              "      <th>count</th>\n",
              "      <th>mean</th>\n",
              "      <th>std</th>\n",
              "      <th>min</th>\n",
              "      <th>25%</th>\n",
              "      <th>50%</th>\n",
              "      <th>75%</th>\n",
              "      <th>max</th>\n",
              "    </tr>\n",
              "  </thead>\n",
              "  <tbody>\n",
              "    <tr>\n",
              "      <th>Cylinders</th>\n",
              "      <td>314.0</td>\n",
              "      <td>5.477707</td>\n",
              "      <td>1.699788</td>\n",
              "      <td>3.0</td>\n",
              "      <td>4.00</td>\n",
              "      <td>4.0</td>\n",
              "      <td>8.00</td>\n",
              "      <td>8.0</td>\n",
              "    </tr>\n",
              "    <tr>\n",
              "      <th>Displacement</th>\n",
              "      <td>314.0</td>\n",
              "      <td>195.318471</td>\n",
              "      <td>104.331589</td>\n",
              "      <td>68.0</td>\n",
              "      <td>105.50</td>\n",
              "      <td>151.0</td>\n",
              "      <td>265.75</td>\n",
              "      <td>455.0</td>\n",
              "    </tr>\n",
              "    <tr>\n",
              "      <th>Horsepower</th>\n",
              "      <td>314.0</td>\n",
              "      <td>104.869427</td>\n",
              "      <td>38.096214</td>\n",
              "      <td>46.0</td>\n",
              "      <td>76.25</td>\n",
              "      <td>94.5</td>\n",
              "      <td>128.00</td>\n",
              "      <td>225.0</td>\n",
              "    </tr>\n",
              "    <tr>\n",
              "      <th>Weight</th>\n",
              "      <td>314.0</td>\n",
              "      <td>2990.251592</td>\n",
              "      <td>843.898596</td>\n",
              "      <td>1649.0</td>\n",
              "      <td>2256.50</td>\n",
              "      <td>2822.5</td>\n",
              "      <td>3608.00</td>\n",
              "      <td>5140.0</td>\n",
              "    </tr>\n",
              "    <tr>\n",
              "      <th>Acceleration</th>\n",
              "      <td>314.0</td>\n",
              "      <td>15.559236</td>\n",
              "      <td>2.789230</td>\n",
              "      <td>8.0</td>\n",
              "      <td>13.80</td>\n",
              "      <td>15.5</td>\n",
              "      <td>17.20</td>\n",
              "      <td>24.8</td>\n",
              "    </tr>\n",
              "    <tr>\n",
              "      <th>Model Year</th>\n",
              "      <td>314.0</td>\n",
              "      <td>75.898089</td>\n",
              "      <td>3.675642</td>\n",
              "      <td>70.0</td>\n",
              "      <td>73.00</td>\n",
              "      <td>76.0</td>\n",
              "      <td>79.00</td>\n",
              "      <td>82.0</td>\n",
              "    </tr>\n",
              "    <tr>\n",
              "      <th>USA</th>\n",
              "      <td>314.0</td>\n",
              "      <td>0.624204</td>\n",
              "      <td>0.485101</td>\n",
              "      <td>0.0</td>\n",
              "      <td>0.00</td>\n",
              "      <td>1.0</td>\n",
              "      <td>1.00</td>\n",
              "      <td>1.0</td>\n",
              "    </tr>\n",
              "    <tr>\n",
              "      <th>Europe</th>\n",
              "      <td>314.0</td>\n",
              "      <td>0.178344</td>\n",
              "      <td>0.383413</td>\n",
              "      <td>0.0</td>\n",
              "      <td>0.00</td>\n",
              "      <td>0.0</td>\n",
              "      <td>0.00</td>\n",
              "      <td>1.0</td>\n",
              "    </tr>\n",
              "    <tr>\n",
              "      <th>Japan</th>\n",
              "      <td>314.0</td>\n",
              "      <td>0.197452</td>\n",
              "      <td>0.398712</td>\n",
              "      <td>0.0</td>\n",
              "      <td>0.00</td>\n",
              "      <td>0.0</td>\n",
              "      <td>0.00</td>\n",
              "      <td>1.0</td>\n",
              "    </tr>\n",
              "  </tbody>\n",
              "</table>\n",
              "</div>"
            ],
            "text/plain": [
              "              count         mean         std  ...     50%      75%     max\n",
              "Cylinders     314.0     5.477707    1.699788  ...     4.0     8.00     8.0\n",
              "Displacement  314.0   195.318471  104.331589  ...   151.0   265.75   455.0\n",
              "Horsepower    314.0   104.869427   38.096214  ...    94.5   128.00   225.0\n",
              "Weight        314.0  2990.251592  843.898596  ...  2822.5  3608.00  5140.0\n",
              "Acceleration  314.0    15.559236    2.789230  ...    15.5    17.20    24.8\n",
              "Model Year    314.0    75.898089    3.675642  ...    76.0    79.00    82.0\n",
              "USA           314.0     0.624204    0.485101  ...     1.0     1.00     1.0\n",
              "Europe        314.0     0.178344    0.383413  ...     0.0     0.00     1.0\n",
              "Japan         314.0     0.197452    0.398712  ...     0.0     0.00     1.0\n",
              "\n",
              "[9 rows x 8 columns]"
            ]
          },
          "metadata": {
            "tags": []
          },
          "execution_count": 19
        }
      ]
    },
    {
      "cell_type": "markdown",
      "metadata": {
        "id": "ZZjHkSrwHmvj"
      },
      "source": [
        "## Separaremos as features (variáveis preditoras) da label (variável target)\n",
        "\n",
        "\n",
        "- **variável target**: variável que o modelo pretende prever\n",
        "\n",
        "- **variáveis preditora**s: variáveis utilizadas como input para o modelo realizar a previsão"
      ]
    },
    {
      "cell_type": "code",
      "metadata": {
        "id": "sMJhOWCZHsXa"
      },
      "source": [
        "train_labels = train_dataset.pop('MPG')\n",
        "test_labels = test_dataset.pop('MPG')"
      ],
      "execution_count": null,
      "outputs": []
    },
    {
      "cell_type": "markdown",
      "metadata": {
        "id": "6tQg9hbKH56J"
      },
      "source": [
        "## Normalização dos dados\n",
        "\n",
        "Temos $X$ e padronizamos com $\\mathcal{P}$  :$ \\mathcal{P}(X)  \\sim \\mathcal{N}(\\mu,\\sigma^2)$\n",
        "\n",
        "Fazemos isso por padronização:\n",
        "\n",
        "\\begin{equation}\n",
        "z_i = \\frac{x_i - \\bar{x}}{\\sigma} \\quad, \\forall x_i \\in X\n",
        "\\end{equation}\n",
        "\n",
        "$x_i = \\frac{1}{|X|} \\sum_{i=1}^{|X|}x_i$, $\\sigma = \\sqrt{\\frac{1}{|X|} \\sum_{i=1}^{|X|} (x_i - \\bar{x})^2}$"
      ]
    },
    {
      "cell_type": "code",
      "metadata": {
        "id": "r6dHWZ5qIEgF"
      },
      "source": [
        "def padroniza(x):\n",
        "  return (x - train_stats['mean']) / train_stats['std']"
      ],
      "execution_count": null,
      "outputs": []
    },
    {
      "cell_type": "code",
      "metadata": {
        "id": "uR8gtwyIIBNJ"
      },
      "source": [
        "normed_train_data = padroniza(train_dataset)\n",
        "normed_test_data = padroniza(test_dataset)"
      ],
      "execution_count": null,
      "outputs": []
    },
    {
      "cell_type": "code",
      "metadata": {
        "id": "abthAuD7JloP",
        "colab": {
          "base_uri": "https://localhost:8080/"
        },
        "outputId": "e8e16941-4804-44ff-fd75-f569445d2c12"
      },
      "source": [
        "normed_test_data.shape"
      ],
      "execution_count": null,
      "outputs": [
        {
          "output_type": "execute_result",
          "data": {
            "text/plain": [
              "(78, 9)"
            ]
          },
          "metadata": {
            "tags": []
          },
          "execution_count": 23
        }
      ]
    },
    {
      "cell_type": "code",
      "metadata": {
        "id": "zJPyvTlpJibh",
        "colab": {
          "base_uri": "https://localhost:8080/"
        },
        "outputId": "9106267b-5e9c-4984-8a5c-2df68df9e7b8"
      },
      "source": [
        "normed_train_data.shape"
      ],
      "execution_count": null,
      "outputs": [
        {
          "output_type": "execute_result",
          "data": {
            "text/plain": [
              "(314, 9)"
            ]
          },
          "metadata": {
            "tags": []
          },
          "execution_count": 24
        }
      ]
    },
    {
      "cell_type": "markdown",
      "metadata": {
        "id": "6TgOoapQJJD3"
      },
      "source": [
        "Construção do modelo\n",
        "==\n",
        "\n",
        "Utilizaremos o modelo **Sequential**, com camadas **densamente conectadas**, e a camada de saída deve retornar um valor contínuo (não discreto).\n",
        "\n",
        "<br>\n",
        "\n",
        "### Função de Custo\n",
        "\n",
        "Como o modelo é de Regressão, podemos utilizar a MSE - Erro Quadrado Médio (Mean Squared Error)\n",
        "\n",
        "\n",
        "\n",
        "\\begin{equation}\n",
        "\\mathcal{L}(\\mathbf{W}, X) = \\frac{1}{|X|} \\sum_{x_i \\in X} (y_i - f(x_i, \\mathbf{W}))^2\n",
        "\\end{equation}"
      ]
    },
    {
      "cell_type": "code",
      "metadata": {
        "id": "w8zZHPBgJXB9"
      },
      "source": [
        "def constroi_modelo():\n",
        "\n",
        "  # modelo sequencial, com camadas densamente conectadas\n",
        "  # Função de ativação ReLU (boa para evitar o decaimento excessivo dos pesos e do gradiente)\n",
        "  # output de um valor numérico, na última camada\n",
        "  model = keras.Sequential([\n",
        "    layers.Dense(64, activation='relu', input_shape=[len(train_dataset.keys())]),\n",
        "    layers.Dense(64, activation='relu'),\n",
        "    layers.Dense(1)\n",
        "  ])\n",
        "\n",
        "  # escolha do otimizador\n",
        "  optimizer = tf.keras.optimizers.RMSprop(0.001)\n",
        "\n",
        "  # Função de custo Erro Quadrado Médio (Mean Squared Error)\n",
        "  model.compile(loss='mse',\n",
        "                optimizer=optimizer,\n",
        "                metrics=['mae', 'mse'])\n",
        "  return model"
      ],
      "execution_count": null,
      "outputs": []
    },
    {
      "cell_type": "code",
      "metadata": {
        "id": "Lj0es-xqJc7W",
        "colab": {
          "base_uri": "https://localhost:8080/"
        },
        "outputId": "f0c6b05e-722a-4508-8674-ac1c66fd3a29"
      },
      "source": [
        "model = constroi_modelo()\n",
        "model\n"
      ],
      "execution_count": null,
      "outputs": [
        {
          "output_type": "execute_result",
          "data": {
            "text/plain": [
              "<tensorflow.python.keras.engine.sequential.Sequential at 0x7fbba40e0400>"
            ]
          },
          "metadata": {
            "tags": []
          },
          "execution_count": 26
        }
      ]
    },
    {
      "cell_type": "code",
      "metadata": {
        "id": "cLLylk1UK-xR",
        "colab": {
          "base_uri": "https://localhost:8080/"
        },
        "outputId": "5145ff23-552d-4a25-af2c-f6ffb9416947"
      },
      "source": [
        "model.__dict__"
      ],
      "execution_count": null,
      "outputs": [
        {
          "output_type": "execute_result",
          "data": {
            "text/plain": [
              "{'_activity_regularizer': None,\n",
              " '_auto_track_sub_layers': False,\n",
              " '_autocast': False,\n",
              " '_base_model_initialized': True,\n",
              " '_build_input_shape': TensorShape([None, 9]),\n",
              " '_callable_losses': [],\n",
              " '_compiled_trainable_state': <WeakKeyDictionary at 0x7fbba408c2b0>,\n",
              " '_compute_dtype_object': tf.float32,\n",
              " '_compute_output_and_mask_jointly': True,\n",
              " '_created_nodes': set(),\n",
              " '_default_training_arg': None,\n",
              " '_distribution_strategy': None,\n",
              " '_dtype_defaulted_to_floatx': True,\n",
              " '_dtype_policy': <Policy \"float32\", loss_scale=None>,\n",
              " '_dynamic': False,\n",
              " '_enable_dict_to_input_mapping': True,\n",
              " '_expects_mask_arg': True,\n",
              " '_expects_training_arg': True,\n",
              " '_feed_input_names': ['dense_input'],\n",
              " '_feed_input_shapes': [(None, 9)],\n",
              " '_feed_inputs': [<tf.Tensor 'dense_input:0' shape=(None, 9) dtype=float32>],\n",
              " '_graph_initialized': True,\n",
              " '_has_explicit_input_shape': True,\n",
              " '_inbound_nodes': [],\n",
              " '_inferred_input_shape': None,\n",
              " '_initial_weights': None,\n",
              " '_input_coordinates': [(<tensorflow.python.keras.engine.input_layer.InputLayer at 0x7fbba40b3c18>,\n",
              "   0,\n",
              "   0)],\n",
              " '_input_dtype': None,\n",
              " '_input_layers': [<tensorflow.python.keras.engine.input_layer.InputLayer at 0x7fbba40b3c18>],\n",
              " '_input_spec': None,\n",
              " '_is_compiled': True,\n",
              " '_is_graph_network': True,\n",
              " '_layer_call_argspecs': {<tensorflow.python.keras.engine.input_layer.InputLayer at 0x7fbba40b3c18>: FullArgSpec(args=['self', 'inputs'], varargs=None, varkw='kwargs', defaults=None, kwonlyargs=[], kwonlydefaults=None, annotations={}),\n",
              "  <tensorflow.python.keras.layers.core.Dense at 0x7fbba409d898>: FullArgSpec(args=['self', 'inputs'], varargs=None, varkw=None, defaults=None, kwonlyargs=[], kwonlydefaults=None, annotations={}),\n",
              "  <tensorflow.python.keras.layers.core.Dense at 0x7fbba40e6cc0>: FullArgSpec(args=['self', 'inputs'], varargs=None, varkw=None, defaults=None, kwonlyargs=[], kwonlydefaults=None, annotations={}),\n",
              "  <tensorflow.python.keras.layers.core.Dense at 0x7fbba6e94390>: FullArgSpec(args=['self', 'inputs'], varargs=None, varkw=None, defaults=None, kwonlyargs=[], kwonlydefaults=None, annotations={})},\n",
              " '_layers': [<tensorflow.python.keras.engine.input_layer.InputLayer at 0x7fbba40b3c18>,\n",
              "  <tensorflow.python.keras.layers.core.Dense at 0x7fbba409d898>,\n",
              "  <tensorflow.python.keras.layers.core.Dense at 0x7fbba40e6cc0>,\n",
              "  <tensorflow.python.keras.layers.core.Dense at 0x7fbba6e94390>],\n",
              " '_losses': [],\n",
              " '_metrics': [],\n",
              " '_metrics_lock': <unlocked _thread.lock object at 0x7fbba40270f8>,\n",
              " '_name': 'sequential',\n",
              " '_nested_inputs': <tf.Tensor 'dense_input:0' shape=(None, 9) dtype=float32>,\n",
              " '_nested_outputs': <tf.Tensor 'dense_2/BiasAdd:0' shape=(None, 1) dtype=float32>,\n",
              " '_network_nodes': {'dense_1_ib-0',\n",
              "  'dense_2_ib-0',\n",
              "  'dense_ib-0',\n",
              "  'dense_input_ib-0'},\n",
              " '_nodes_by_depth': defaultdict(list,\n",
              "             {0: [<tensorflow.python.keras.engine.node.Node at 0x7fbba408cd68>],\n",
              "              1: [<tensorflow.python.keras.engine.node.Node at 0x7fbba408c0f0>],\n",
              "              2: [<tensorflow.python.keras.engine.node.Node at 0x7fbba408cb00>],\n",
              "              3: [<tensorflow.python.keras.engine.node.Node at 0x7fbba40b3828>]}),\n",
              " '_non_trainable_weights': [],\n",
              " '_obj_reference_counts_dict': ObjectIdentityDictionary({<_ObjectIdentityWrapper wrapping <tensorflow.python.keras.optimizer_v2.rmsprop.RMSprop object at 0x7fbba40e0898>>: 1, <_ObjectIdentityWrapper wrapping <tensorflow.python.keras.engine.compile_utils.LossesContainer object at 0x7fbba408c128>>: 1, <_ObjectIdentityWrapper wrapping <tensorflow.python.keras.engine.compile_utils.MetricsContainer object at 0x7fbba408c4a8>>: 1, <_ObjectIdentityWrapper wrapping True>: 1, <_ObjectIdentityWrapper wrapping 'mse'>: 1}),\n",
              " '_outbound_nodes': [],\n",
              " '_output_coordinates': [(<tensorflow.python.keras.layers.core.Dense at 0x7fbba6e94390>,\n",
              "   0,\n",
              "   0)],\n",
              " '_output_layers': [<tensorflow.python.keras.layers.core.Dense at 0x7fbba6e94390>],\n",
              " '_output_mask_cache': {},\n",
              " '_output_shape_cache': {},\n",
              " '_output_tensor_cache': {},\n",
              " '_predict_counter': <tf.Variable 'Variable:0' shape=() dtype=int64, numpy=0>,\n",
              " '_run_eagerly': None,\n",
              " '_saved_model_inputs_spec': TensorSpec(shape=(None, 9), dtype=tf.float32, name='dense_input'),\n",
              " '_self_name_based_restores': set(),\n",
              " '_self_saveable_object_factories': {},\n",
              " '_self_setattr_tracking': True,\n",
              " '_self_unconditional_checkpoint_dependencies': [TrackableReference(name='optimizer', ref=<tensorflow.python.keras.optimizer_v2.rmsprop.RMSprop object at 0x7fbba40e0898>)],\n",
              " '_self_unconditional_deferred_dependencies': {},\n",
              " '_self_unconditional_dependency_names': {'optimizer': <tensorflow.python.keras.optimizer_v2.rmsprop.RMSprop at 0x7fbba40e0898>},\n",
              " '_self_update_uid': -1,\n",
              " '_stateful': False,\n",
              " '_steps_per_execution': <tf.Variable 'Variable:0' shape=() dtype=int64, numpy=1>,\n",
              " '_supports_masking': True,\n",
              " '_tensor_usage_count': Counter({'140443882279600': 1,\n",
              "          '140443887109344': 1,\n",
              "          '140443887247600': 1,\n",
              "          '140443887652816': 1}),\n",
              " '_test_counter': <tf.Variable 'Variable:0' shape=() dtype=int64, numpy=0>,\n",
              " '_thread_local': <_thread._local at 0x7fbbaf606bf8>,\n",
              " '_trackable_saver': <tensorflow.python.training.tracking.util.TrackableSaver at 0x7fbba40e03c8>,\n",
              " '_train_counter': <tf.Variable 'Variable:0' shape=() dtype=int64, numpy=0>,\n",
              " '_trainable': True,\n",
              " '_trainable_weights': [],\n",
              " '_training_state': None,\n",
              " '_updates': [],\n",
              " '_use_legacy_deferred_behavior': False,\n",
              " 'built': True,\n",
              " 'compiled_loss': <tensorflow.python.keras.engine.compile_utils.LossesContainer at 0x7fbba408c128>,\n",
              " 'compiled_metrics': <tensorflow.python.keras.engine.compile_utils.MetricsContainer at 0x7fbba408c4a8>,\n",
              " 'history': None,\n",
              " 'input_names': ['dense_input'],\n",
              " 'inputs': [<tf.Tensor 'dense_input:0' shape=(None, 9) dtype=float32>],\n",
              " 'loss': 'mse',\n",
              " 'optimizer': <tensorflow.python.keras.optimizer_v2.rmsprop.RMSprop at 0x7fbba40e0898>,\n",
              " 'output_names': ['dense_2'],\n",
              " 'outputs': [<tf.Tensor 'dense_2/BiasAdd:0' shape=(None, 1) dtype=float32>],\n",
              " 'predict_function': None,\n",
              " 'stop_training': False,\n",
              " 'test_function': None,\n",
              " 'train_function': None}"
            ]
          },
          "metadata": {
            "tags": []
          },
          "execution_count": 27
        }
      ]
    },
    {
      "cell_type": "code",
      "metadata": {
        "id": "tiOLMxdGLDj6",
        "colab": {
          "base_uri": "https://localhost:8080/"
        },
        "outputId": "a66c6c4a-f975-47d6-8dc7-f01a4000eff0"
      },
      "source": [
        "model.summary()"
      ],
      "execution_count": null,
      "outputs": [
        {
          "output_type": "stream",
          "text": [
            "Model: \"sequential\"\n",
            "_________________________________________________________________\n",
            "Layer (type)                 Output Shape              Param #   \n",
            "=================================================================\n",
            "dense (Dense)                (None, 64)                640       \n",
            "_________________________________________________________________\n",
            "dense_1 (Dense)              (None, 64)                4160      \n",
            "_________________________________________________________________\n",
            "dense_2 (Dense)              (None, 1)                 65        \n",
            "=================================================================\n",
            "Total params: 4,865\n",
            "Trainable params: 4,865\n",
            "Non-trainable params: 0\n",
            "_________________________________________________________________\n"
          ],
          "name": "stdout"
        }
      ]
    },
    {
      "cell_type": "markdown",
      "metadata": {
        "id": "e35O6wHXLGYe"
      },
      "source": [
        "## Testando o modelo.\n",
        "\n",
        "Selecionar Batch de 10 exemplos:"
      ]
    },
    {
      "cell_type": "code",
      "metadata": {
        "id": "3Sr8zEPmLMr9",
        "colab": {
          "base_uri": "https://localhost:8080/"
        },
        "outputId": "da27381e-0a8a-45fe-ebac-a55d114d323a"
      },
      "source": [
        "example_batch = normed_train_data[:10]\n",
        "example_result = model.predict(example_batch)\n",
        "example_result"
      ],
      "execution_count": null,
      "outputs": [
        {
          "output_type": "execute_result",
          "data": {
            "text/plain": [
              "array([[0.2498445 ],\n",
              "       [0.1358087 ],\n",
              "       [0.7076582 ],\n",
              "       [0.17611624],\n",
              "       [0.4932208 ],\n",
              "       [0.20471212],\n",
              "       [0.5383117 ],\n",
              "       [0.22876209],\n",
              "       [0.10749222],\n",
              "       [0.5475221 ]], dtype=float32)"
            ]
          },
          "metadata": {
            "tags": []
          },
          "execution_count": 29
        }
      ]
    },
    {
      "cell_type": "markdown",
      "metadata": {
        "id": "hbNsWYtALVeX"
      },
      "source": [
        "## Treinamento do modelo\n",
        "\n",
        "\n",
        "Setar quantidade de épocas de treinamento, armazenando a acurácia de treino e validação em **history**"
      ]
    },
    {
      "cell_type": "code",
      "metadata": {
        "id": "9Kw7JXHtLfMi"
      },
      "source": [
        "## Esta classe auxilia a visualização do progresso\n",
        "class MostraProgresso(keras.callbacks.Callback):\n",
        "  def on_epoch_end(self, epoch, logs):\n",
        "    if epoch % 100 == 0:\n",
        "      print('')\n",
        "    print('-', end='')"
      ],
      "execution_count": null,
      "outputs": []
    },
    {
      "cell_type": "code",
      "metadata": {
        "id": "foxaXXspLzCW"
      },
      "source": [
        "EPOCHS = 1000"
      ],
      "execution_count": null,
      "outputs": []
    },
    {
      "cell_type": "code",
      "metadata": {
        "id": "GUgaxDR9L1Lq",
        "colab": {
          "base_uri": "https://localhost:8080/",
          "height": 212
        },
        "outputId": "234c112b-5d1b-434c-d4ce-9227a0cff045"
      },
      "source": [
        "history = model.fit(\n",
        "    x=normed_train_data,\n",
        "    y=train_labels,\n",
        "    epochs=EPOCHS,\n",
        "    validation_split=0.2,\n",
        "    verbose=0,\n",
        "    callbacks=[MostraProgresso()]\n",
        ")"
      ],
      "execution_count": null,
      "outputs": [
        {
          "output_type": "stream",
          "text": [
            "\n",
            "----------------------------------------------------------------------------------------------------\n",
            "----------------------------------------------------------------------------------------------------\n",
            "----------------------------------------------------------------------------------------------------\n",
            "----------------------------------------------------------------------------------------------------\n",
            "----------------------------------------------------------------------------------------------------\n",
            "----------------------------------------------------------------------------------------------------\n",
            "----------------------------------------------------------------------------------------------------\n",
            "----------------------------------------------------------------------------------------------------\n",
            "----------------------------------------------------------------------------------------------------\n",
            "----------------------------------------------------------------------------------------------------"
          ],
          "name": "stdout"
        }
      ]
    },
    {
      "cell_type": "code",
      "metadata": {
        "id": "XlcbwzorMI5l",
        "colab": {
          "base_uri": "https://localhost:8080/",
          "height": 34
        },
        "outputId": "8afeb5ca-fb32-46f3-95f6-e16ba4ea0a1e"
      },
      "source": [
        "history.__dict__.keys()"
      ],
      "execution_count": null,
      "outputs": [
        {
          "output_type": "execute_result",
          "data": {
            "text/plain": [
              "dict_keys(['validation_data', 'model', '_chief_worker_only', '_supports_tf_logs', 'history', 'params', 'epoch'])"
            ]
          },
          "metadata": {
            "tags": []
          },
          "execution_count": 33
        }
      ]
    },
    {
      "cell_type": "code",
      "metadata": {
        "id": "O5QdfUq7MsKK",
        "colab": {
          "base_uri": "https://localhost:8080/",
          "height": 34
        },
        "outputId": "6429c8d9-8775-4668-818a-794540b21bde"
      },
      "source": [
        "history.history.keys()"
      ],
      "execution_count": null,
      "outputs": [
        {
          "output_type": "execute_result",
          "data": {
            "text/plain": [
              "dict_keys(['loss', 'mae', 'mse', 'val_loss', 'val_mae', 'val_mse'])"
            ]
          },
          "metadata": {
            "tags": []
          },
          "execution_count": 34
        }
      ]
    },
    {
      "cell_type": "code",
      "metadata": {
        "id": "p-4-aTOuMm2q",
        "colab": {
          "base_uri": "https://localhost:8080/",
          "height": 197
        },
        "outputId": "1cffd5ba-945a-46a7-ccae-53d07e75a294"
      },
      "source": [
        "historico = pd.DataFrame(history.history)\n",
        "historico['epoch'] = history.epoch\n",
        "historico.tail()"
      ],
      "execution_count": null,
      "outputs": [
        {
          "output_type": "execute_result",
          "data": {
            "text/html": [
              "<div>\n",
              "<style scoped>\n",
              "    .dataframe tbody tr th:only-of-type {\n",
              "        vertical-align: middle;\n",
              "    }\n",
              "\n",
              "    .dataframe tbody tr th {\n",
              "        vertical-align: top;\n",
              "    }\n",
              "\n",
              "    .dataframe thead th {\n",
              "        text-align: right;\n",
              "    }\n",
              "</style>\n",
              "<table border=\"1\" class=\"dataframe\">\n",
              "  <thead>\n",
              "    <tr style=\"text-align: right;\">\n",
              "      <th></th>\n",
              "      <th>loss</th>\n",
              "      <th>mae</th>\n",
              "      <th>mse</th>\n",
              "      <th>val_loss</th>\n",
              "      <th>val_mae</th>\n",
              "      <th>val_mse</th>\n",
              "      <th>epoch</th>\n",
              "    </tr>\n",
              "  </thead>\n",
              "  <tbody>\n",
              "    <tr>\n",
              "      <th>995</th>\n",
              "      <td>2.874888</td>\n",
              "      <td>1.107013</td>\n",
              "      <td>2.874888</td>\n",
              "      <td>8.728869</td>\n",
              "      <td>2.224972</td>\n",
              "      <td>8.728869</td>\n",
              "      <td>995</td>\n",
              "    </tr>\n",
              "    <tr>\n",
              "      <th>996</th>\n",
              "      <td>2.700818</td>\n",
              "      <td>1.073705</td>\n",
              "      <td>2.700818</td>\n",
              "      <td>9.247972</td>\n",
              "      <td>2.273790</td>\n",
              "      <td>9.247972</td>\n",
              "      <td>996</td>\n",
              "    </tr>\n",
              "    <tr>\n",
              "      <th>997</th>\n",
              "      <td>2.998488</td>\n",
              "      <td>1.152238</td>\n",
              "      <td>2.998488</td>\n",
              "      <td>9.164078</td>\n",
              "      <td>2.233855</td>\n",
              "      <td>9.164078</td>\n",
              "      <td>997</td>\n",
              "    </tr>\n",
              "    <tr>\n",
              "      <th>998</th>\n",
              "      <td>2.629946</td>\n",
              "      <td>1.067930</td>\n",
              "      <td>2.629946</td>\n",
              "      <td>9.133616</td>\n",
              "      <td>2.235770</td>\n",
              "      <td>9.133616</td>\n",
              "      <td>998</td>\n",
              "    </tr>\n",
              "    <tr>\n",
              "      <th>999</th>\n",
              "      <td>2.740798</td>\n",
              "      <td>1.118513</td>\n",
              "      <td>2.740798</td>\n",
              "      <td>8.810756</td>\n",
              "      <td>2.321855</td>\n",
              "      <td>8.810756</td>\n",
              "      <td>999</td>\n",
              "    </tr>\n",
              "  </tbody>\n",
              "</table>\n",
              "</div>"
            ],
            "text/plain": [
              "         loss       mae       mse  val_loss   val_mae   val_mse  epoch\n",
              "995  2.874888  1.107013  2.874888  8.728869  2.224972  8.728869    995\n",
              "996  2.700818  1.073705  2.700818  9.247972  2.273790  9.247972    996\n",
              "997  2.998488  1.152238  2.998488  9.164078  2.233855  9.164078    997\n",
              "998  2.629946  1.067930  2.629946  9.133616  2.235770  9.133616    998\n",
              "999  2.740798  1.118513  2.740798  8.810756  2.321855  8.810756    999"
            ]
          },
          "metadata": {
            "tags": []
          },
          "execution_count": 35
        }
      ]
    },
    {
      "cell_type": "code",
      "metadata": {
        "id": "2rw73MH_M7qG",
        "colab": {
          "base_uri": "https://localhost:8080/",
          "height": 287
        },
        "outputId": "65530325-10c2-495f-9e50-db98ed7a08da"
      },
      "source": [
        "historico.describe()"
      ],
      "execution_count": null,
      "outputs": [
        {
          "output_type": "execute_result",
          "data": {
            "text/html": [
              "<div>\n",
              "<style scoped>\n",
              "    .dataframe tbody tr th:only-of-type {\n",
              "        vertical-align: middle;\n",
              "    }\n",
              "\n",
              "    .dataframe tbody tr th {\n",
              "        vertical-align: top;\n",
              "    }\n",
              "\n",
              "    .dataframe thead th {\n",
              "        text-align: right;\n",
              "    }\n",
              "</style>\n",
              "<table border=\"1\" class=\"dataframe\">\n",
              "  <thead>\n",
              "    <tr style=\"text-align: right;\">\n",
              "      <th></th>\n",
              "      <th>loss</th>\n",
              "      <th>mae</th>\n",
              "      <th>mse</th>\n",
              "      <th>val_loss</th>\n",
              "      <th>val_mae</th>\n",
              "      <th>val_mse</th>\n",
              "      <th>epoch</th>\n",
              "    </tr>\n",
              "  </thead>\n",
              "  <tbody>\n",
              "    <tr>\n",
              "      <th>count</th>\n",
              "      <td>1000.000000</td>\n",
              "      <td>1000.000000</td>\n",
              "      <td>1000.000000</td>\n",
              "      <td>1000.000000</td>\n",
              "      <td>1000.000000</td>\n",
              "      <td>1000.000000</td>\n",
              "      <td>1000.000000</td>\n",
              "    </tr>\n",
              "    <tr>\n",
              "      <th>mean</th>\n",
              "      <td>7.338053</td>\n",
              "      <td>1.566342</td>\n",
              "      <td>7.338053</td>\n",
              "      <td>11.699949</td>\n",
              "      <td>2.394156</td>\n",
              "      <td>11.699949</td>\n",
              "      <td>499.500000</td>\n",
              "    </tr>\n",
              "    <tr>\n",
              "      <th>std</th>\n",
              "      <td>32.704077</td>\n",
              "      <td>1.438001</td>\n",
              "      <td>32.704077</td>\n",
              "      <td>30.399579</td>\n",
              "      <td>1.270185</td>\n",
              "      <td>30.399579</td>\n",
              "      <td>288.819436</td>\n",
              "    </tr>\n",
              "    <tr>\n",
              "      <th>min</th>\n",
              "      <td>2.624854</td>\n",
              "      <td>1.064211</td>\n",
              "      <td>2.624854</td>\n",
              "      <td>8.221895</td>\n",
              "      <td>2.123201</td>\n",
              "      <td>8.221895</td>\n",
              "      <td>0.000000</td>\n",
              "    </tr>\n",
              "    <tr>\n",
              "      <th>25%</th>\n",
              "      <td>3.422091</td>\n",
              "      <td>1.257218</td>\n",
              "      <td>3.422091</td>\n",
              "      <td>8.783888</td>\n",
              "      <td>2.228908</td>\n",
              "      <td>8.783888</td>\n",
              "      <td>249.750000</td>\n",
              "    </tr>\n",
              "    <tr>\n",
              "      <th>50%</th>\n",
              "      <td>4.109386</td>\n",
              "      <td>1.388714</td>\n",
              "      <td>4.109386</td>\n",
              "      <td>8.962668</td>\n",
              "      <td>2.260553</td>\n",
              "      <td>8.962668</td>\n",
              "      <td>499.500000</td>\n",
              "    </tr>\n",
              "    <tr>\n",
              "      <th>75%</th>\n",
              "      <td>5.024543</td>\n",
              "      <td>1.545822</td>\n",
              "      <td>5.024543</td>\n",
              "      <td>9.160808</td>\n",
              "      <td>2.295734</td>\n",
              "      <td>9.160808</td>\n",
              "      <td>749.250000</td>\n",
              "    </tr>\n",
              "    <tr>\n",
              "      <th>max</th>\n",
              "      <td>548.820923</td>\n",
              "      <td>22.051544</td>\n",
              "      <td>548.820923</td>\n",
              "      <td>532.758179</td>\n",
              "      <td>21.546749</td>\n",
              "      <td>532.758179</td>\n",
              "      <td>999.000000</td>\n",
              "    </tr>\n",
              "  </tbody>\n",
              "</table>\n",
              "</div>"
            ],
            "text/plain": [
              "              loss          mae  ...      val_mse        epoch\n",
              "count  1000.000000  1000.000000  ...  1000.000000  1000.000000\n",
              "mean      7.338053     1.566342  ...    11.699949   499.500000\n",
              "std      32.704077     1.438001  ...    30.399579   288.819436\n",
              "min       2.624854     1.064211  ...     8.221895     0.000000\n",
              "25%       3.422091     1.257218  ...     8.783888   249.750000\n",
              "50%       4.109386     1.388714  ...     8.962668   499.500000\n",
              "75%       5.024543     1.545822  ...     9.160808   749.250000\n",
              "max     548.820923    22.051544  ...   532.758179   999.000000\n",
              "\n",
              "[8 rows x 7 columns]"
            ]
          },
          "metadata": {
            "tags": []
          },
          "execution_count": 36
        }
      ]
    },
    {
      "cell_type": "code",
      "metadata": {
        "id": "L352NIOrNBT3",
        "colab": {
          "base_uri": "https://localhost:8080/",
          "height": 651
        },
        "outputId": "e66bc3f1-6d5f-42b0-82b4-d77ac57156c3"
      },
      "source": [
        "def plota_historico(history, limita=False):\n",
        "  hist = pd.DataFrame(history.history)\n",
        "  hist['epoch'] = history.epoch\n",
        "\n",
        "  plt.figure(figsize=(10,5))\n",
        "  plt.xlabel('Epoch')\n",
        "  plt.ylabel('Erro Médio Absoluto (MAE) [MPG]')\n",
        "  plt.plot(hist['epoch'], hist['mae'],\n",
        "           label='Erro de Treinamento')\n",
        "  plt.legend(loc='best', fontsize=25)\n",
        "  plt.plot(hist['epoch'], hist['val_mae'],\n",
        "           label = 'Erro de Validação')\n",
        "  plt.legend(loc='best', fontsize=25)\n",
        "  if limita == True:\n",
        "    plt.ylim([0,5])\n",
        "  plt.legend()\n",
        "\n",
        "  plt.figure(figsize=(10,5))\n",
        "  plt.xlabel('Epoch')\n",
        "  plt.ylabel('Erro Quadrado Médio (MSE) [$MPG^2$]')\n",
        "  plt.plot(hist['epoch'], hist['mse'],\n",
        "           label='Erro de Treinamento')\n",
        "  plt.legend(loc='best', fontsize=25)\n",
        "  plt.plot(hist['epoch'], hist['val_mse'],\n",
        "           label = 'Erro de Validação')\n",
        "  plt.legend(loc='best', fontsize=25)\n",
        "  if limita == True:\n",
        "    plt.ylim([0,20])\n",
        "  plt.legend()\n",
        "  plt.show()\n",
        "\n",
        "\n",
        "plota_historico(history)"
      ],
      "execution_count": null,
      "outputs": [
        {
          "output_type": "display_data",
          "data": {
            "image/png": "[encoded data removed]",
            "text/plain": [
              "<Figure size 720x360 with 1 Axes>"
            ]
          },
          "metadata": {
            "tags": [],
            "needs_background": "light"
          }
        },
        {
          "output_type": "display_data",
          "data": {
            "image/png": "[encoded data removed]",
            "text/plain": [
              "<Figure size 720x360 with 1 Axes>"
            ]
          },
          "metadata": {
            "tags": [],
            "needs_background": "light"
          }
        }
      ]
    },
    {
      "cell_type": "markdown",
      "metadata": {
        "id": "qYUrpvgRNr2V"
      },
      "source": [
        "## Vamos então utilizar a técnica de **Early Stopping**, cessando o treinamendo quando o score de validação não aumentar mais."
      ]
    },
    {
      "cell_type": "code",
      "metadata": {
        "id": "QBtLwdHPN0gE",
        "colab": {
          "base_uri": "https://localhost:8080/",
          "height": 687
        },
        "outputId": "c6340a4c-c8fe-4e42-9b68-b673e42fa13c"
      },
      "source": [
        "model = constroi_modelo()\n",
        "\n",
        "# O paramêtro patience é o quantidade de epochs para checar as melhoras\n",
        "early_stop = keras.callbacks.EarlyStopping(monitor='val_loss', patience=10)\n",
        "\n",
        "history = model.fit(normed_train_data, train_labels, epochs=EPOCHS,\n",
        "                    validation_split = 0.2, verbose=0, callbacks=[early_stop, MostraProgresso()])\n",
        "\n",
        "plota_historico(history)"
      ],
      "execution_count": null,
      "outputs": [
        {
          "output_type": "stream",
          "text": [
            "\n",
            "-------------------------------------------------------------------------------"
          ],
          "name": "stdout"
        },
        {
          "output_type": "display_data",
          "data": {
            "image/png": "[encoded data removed]",
            "text/plain": [
              "<Figure size 720x360 with 1 Axes>"
            ]
          },
          "metadata": {
            "tags": [],
            "needs_background": "light"
          }
        },
        {
          "output_type": "display_data",
          "data": {
            "image/png": "[encoded data removed]",
            "text/plain": [
              "<Figure size 720x360 with 1 Axes>"
            ]
          },
          "metadata": {
            "tags": [],
            "needs_background": "light"
          }
        }
      ]
    },
    {
      "cell_type": "code",
      "metadata": {
        "id": "TFb_eZolOPYE",
        "colab": {
          "base_uri": "https://localhost:8080/",
          "height": 658
        },
        "outputId": "56ee2f22-0fee-48d5-f5ac-e3340ffe2e43"
      },
      "source": [
        "plota_historico(history, limita=True)"
      ],
      "execution_count": null,
      "outputs": [
        {
          "output_type": "display_data",
          "data": {
            "image/png": "[encoded data removed]",
            "text/plain": [
              "<Figure size 720x360 with 1 Axes>"
            ]
          },
          "metadata": {
            "tags": [],
            "needs_background": "light"
          }
        },
        {
          "output_type": "display_data",
          "data": {
            "image/png": "[encoded data removed]",
            "text/plain": [
              "<Figure size 720x360 with 1 Axes>"
            ]
          },
          "metadata": {
            "tags": [],
            "needs_background": "light"
          }
        }
      ]
    },
    {
      "cell_type": "code",
      "metadata": {
        "id": "6tp3geSqOHbh",
        "colab": {
          "base_uri": "https://localhost:8080/",
          "height": 87
        },
        "outputId": "3b793127-bcff-427f-a3d8-e2507865ea8a"
      },
      "source": [
        "loss, mae, mse = model.evaluate(normed_test_data, test_labels, verbose=2)\n",
        "\n",
        "print(\" \\n Erro Absoluto Médio de Teste: {:5.2f} MPG \\n \".format(mae))"
      ],
      "execution_count": null,
      "outputs": [
        {
          "output_type": "stream",
          "text": [
            "3/3 - 0s - loss: 6.2368 - mae: 2.0230 - mse: 6.2368\n",
            " \n",
            " Erro Absoluto Médio de Teste:  2.02 MPG \n",
            " \n"
          ],
          "name": "stdout"
        }
      ]
    },
    {
      "cell_type": "markdown",
      "metadata": {
        "id": "6pZEGV_bO4PB"
      },
      "source": [
        "## Previsões\n",
        "\n",
        "Faremos previsões de valores de MPG, utilizando o conjunto de teste."
      ]
    },
    {
      "cell_type": "code",
      "metadata": {
        "id": "bPGjWErrO9v8",
        "colab": {
          "base_uri": "https://localhost:8080/",
          "height": 286
        },
        "outputId": "527a3389-c800-44c3-e747-93c57d899728"
      },
      "source": [
        "previsoes_teste = model.predict(normed_test_data).flatten()\n",
        "\n",
        "plt.scatter(test_labels, previsoes_teste)\n",
        "plt.xlabel('Valores Reais [MPG]', fontsize=18)\n",
        "plt.ylabel('Previsões [MPG]', fontsize=18)\n",
        "plt.axis('equal')\n",
        "plt.axis('square')\n",
        "plt.xlim([0,plt.xlim()[1]])\n",
        "plt.ylim([0,plt.ylim()[1]])\n",
        "_ = plt.plot([-100, 100], [-100, 100])"
      ],
      "execution_count": null,
      "outputs": [
        {
          "output_type": "display_data",
          "data": {
            "image/png": "[encoded data removed]",
            "text/plain": [
              "<Figure size 432x288 with 1 Axes>"
            ]
          },
          "metadata": {
            "tags": [],
            "needs_background": "light"
          }
        }
      ]
    },
    {
      "cell_type": "markdown",
      "metadata": {
        "id": "ql1cExAePSae"
      },
      "source": [
        "## Vamos verificar a distribuição dos erros, e ver se são de distribuição aproximadamente Gaussiana"
      ]
    },
    {
      "cell_type": "code",
      "metadata": {
        "id": "b0BfIXMzPbLd",
        "colab": {
          "base_uri": "https://localhost:8080/",
          "height": 284
        },
        "outputId": "3cd47de4-e859-4197-f924-cce4c232a834"
      },
      "source": [
        "erro = previsoes_teste - test_labels\n",
        "plt.hist(erro, bins = 25)\n",
        "plt.xlabel(\"Erro da Previsão [MPG]\", fontsize=15)\n",
        "_ = plt.ylabel(\"Contagem\", fontsize=15)\n",
        "plt.show()"
      ],
      "execution_count": null,
      "outputs": [
        {
          "output_type": "display_data",
          "data": {
            "image/png": "[encoded data removed]",
            "text/plain": [
              "<Figure size 432x288 with 1 Axes>"
            ]
          },
          "metadata": {
            "tags": [],
            "needs_background": "light"
          }
        }
      ]
    },
    {
      "cell_type": "code",
      "metadata": {
        "id": "-9HUFmMxPlfN",
        "colab": {
          "base_uri": "https://localhost:8080/",
          "height": 278
        },
        "outputId": "422d2d60-55fe-4d41-cb4d-ad82899233cd"
      },
      "source": [
        "sns.distplot(a=erro, bins=25)\n",
        "plt.show()"
      ],
      "execution_count": null,
      "outputs": [
        {
          "output_type": "display_data",
          "data": {
            "image/png": "[encoded data removed]",
            "text/plain": [
              "<Figure size 432x288 with 1 Axes>"
            ]
          },
          "metadata": {
            "tags": [],
            "needs_background": "light"
          }
        }
      ]
    }
  ]
}